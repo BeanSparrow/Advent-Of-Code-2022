{
 "cells": [
  {
   "cell_type": "markdown",
   "metadata": {},
   "source": [
    "# Advent of Code 2022 | Day 6"
   ]
  },
  {
   "cell_type": "code",
   "execution_count": 25,
   "metadata": {},
   "outputs": [
    {
     "name": "stdout",
     "output_type": "stream",
     "text": [
      "The first marker with 4 distinct characters is [czhq]\n",
      "This occurs at character 1287\n",
      "The first marker with 14 distinct characters is [rtbwsjzqhgfldn]\n",
      "This occurs at character 3716\n"
     ]
    }
   ],
   "source": [
    "def find_marker(num_distinct):\n",
    "    \"\"\"Find first marker in signal with passed number of distinct characters\"\"\"\n",
    "    # Parse Input\n",
    "    with open(\"day6-input.txt\", \"r\") as f:\n",
    "        for i, line in enumerate(f):\n",
    "            \n",
    "            # Iterate through characters\n",
    "            for i in range(len(line) - num_distinct):\n",
    "                marker = []\n",
    "                \n",
    "                # Create marker list\n",
    "                for j in range(num_distinct):\n",
    "                    marker.append(line[i+j])\n",
    "                \n",
    "                # Check if unique set\n",
    "                if len(set(marker)) == num_distinct:\n",
    "                    print(f'The first marker with {num_distinct} distinct characters is [{\"\".join(marker)}]')\n",
    "                    print(f'This occurs at character {i+num_distinct}')\n",
    "                    break\n",
    "\n",
    "if __name__ == '__main__':\n",
    "    # Part 1\n",
    "    find_marker(4)\n",
    "    # Part 2\n",
    "    find_marker(14)\n"
   ]
  }
 ],
 "metadata": {
  "kernelspec": {
   "display_name": "Python 3.9.2 64-bit",
   "language": "python",
   "name": "python3"
  },
  "language_info": {
   "codemirror_mode": {
    "name": "ipython",
    "version": 3
   },
   "file_extension": ".py",
   "mimetype": "text/x-python",
   "name": "python",
   "nbconvert_exporter": "python",
   "pygments_lexer": "ipython3",
   "version": "3.9.2"
  },
  "orig_nbformat": 4,
  "vscode": {
   "interpreter": {
    "hash": "db530cbe9554966aed7cfbdc02c54c6d4fe39a731218d60a9e5d0f2b242b98d0"
   }
  }
 },
 "nbformat": 4,
 "nbformat_minor": 2
}
