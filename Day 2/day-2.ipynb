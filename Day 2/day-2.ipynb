{
 "cells": [
  {
   "cell_type": "markdown",
   "metadata": {},
   "source": [
    "# Advent of Code 2022 | Day 2"
   ]
  },
  {
   "cell_type": "markdown",
   "metadata": {},
   "source": [
    "### Part 1"
   ]
  },
  {
   "cell_type": "code",
   "execution_count": 14,
   "metadata": {},
   "outputs": [
    {
     "name": "stdout",
     "output_type": "stream",
     "text": [
      "The final score is 17189\n"
     ]
    }
   ],
   "source": [
    "## Part 1 ##\n",
    "\"\"\"Game Rules\"\"\"\n",
    "game_rules = {'A': {'X':'Draw','Y':'Win','Z':'Lose'},\n",
    "            'B':{'X':'Lose','Y':'Draw','Z':'Win'}, \n",
    "            'C':{'X':'Win','Y':'Lose','Z':'Draw'}}\n",
    "\n",
    "def parser():\n",
    "    \"\"\"Parse the Input File\"\"\"\n",
    "    game_results = {'A': {'X': 0,'Y': 0,'Z': 0}, \n",
    "                    'B':{'X': 0,'Y': 0,'Z': 0}, \n",
    "                    'C':{'X': 0,'Y': 0,'Z': 0}}\n",
    "    with open(\"day2.txt\", \"r\") as f:\n",
    "        ## Parse Input File ##\n",
    "        for i, line in enumerate(f):\n",
    "            game_results[line[0]][line[2]] += 1\n",
    "    return game_results\n",
    "\n",
    "def determine_score(game_results):\n",
    "    \"\"\"Determine Score Based on Score Conditions\"\"\"\n",
    "    game_score = {'Win': 6, 'Draw': 3, 'Lose': 0}\n",
    "    selection_score = {'X': 1, 'Y': 2, 'Z': 3}\n",
    "    score = 0\n",
    "    for elf_move in game_results:\n",
    "        for player_move in game_results[elf_move]:\n",
    "            score += (selection_score[player_move] + \n",
    "            game_score[game_rules[elf_move][player_move]])\\\n",
    "                 * game_results[elf_move][player_move]\n",
    "    return score\n",
    "\n",
    "game_results = parser() # Dictionary of Results\n",
    "print(f'The final score is {determine_score(game_results)}') # Final Score"
   ]
  },
  {
   "cell_type": "markdown",
   "metadata": {},
   "source": [
    "### Part 2"
   ]
  },
  {
   "cell_type": "code",
   "execution_count": 16,
   "metadata": {},
   "outputs": [
    {
     "name": "stdout",
     "output_type": "stream",
     "text": [
      "The final score is 13490\n"
     ]
    }
   ],
   "source": [
    "## Part 2 ##\n",
    "\"\"\"Game Rules\"\"\"\n",
    "game_rules = {'A': {'X':'Scissors','Y':'Rock','Z':'Paper'},\n",
    "            'B':{'X':'Rock','Y':'Paper','Z':'Scissors'}, \n",
    "            'C':{'X':'Paper','Y':'Scissors','Z':'Rock'}}\n",
    "\n",
    "def parser():\n",
    "    \"\"\"Parse the Input File\"\"\"\n",
    "    game_results = {'A': {'X': 0,'Y': 0,'Z': 0}, \n",
    "                    'B':{'X': 0,'Y': 0,'Z': 0}, \n",
    "                    'C':{'X': 0,'Y': 0,'Z': 0}}\n",
    "    with open(\"day2.txt\", \"r\") as f:\n",
    "        ## Parse Input File ##\n",
    "        for i, line in enumerate(f):\n",
    "            game_results[line[0]][line[2]] += 1\n",
    "    return game_results\n",
    "\n",
    "def determine_score(game_results):\n",
    "    \"\"\"Determine Score Based on Score Conditions\"\"\"\n",
    "    game_score = {'Rock': 1, 'Paper': 2, 'Scissors': 3}\n",
    "    selection_score = {'X': 0, 'Y': 3, 'Z': 6}\n",
    "    score = 0\n",
    "    for elf_move in game_results:\n",
    "        for player_move in game_results[elf_move]:\n",
    "            score += (selection_score[player_move] + \n",
    "            game_score[game_rules[elf_move][player_move]])\\\n",
    "                 * game_results[elf_move][player_move]\n",
    "    return score\n",
    "\n",
    "game_results = parser() # Dictionary of Results\n",
    "print(f'The final score is {determine_score(game_results)}') # Final Score"
   ]
  }
 ],
 "metadata": {
  "kernelspec": {
   "display_name": "Python 3.11.0 64-bit",
   "language": "python",
   "name": "python3"
  },
  "language_info": {
   "codemirror_mode": {
    "name": "ipython",
    "version": 3
   },
   "file_extension": ".py",
   "mimetype": "text/x-python",
   "name": "python",
   "nbconvert_exporter": "python",
   "pygments_lexer": "ipython3",
   "version": "3.11.0"
  },
  "orig_nbformat": 4,
  "vscode": {
   "interpreter": {
    "hash": "2e08becd2fb66981e99f43f59d267a76f406a764571e712c80c35314ff1ef65d"
   }
  }
 },
 "nbformat": 4,
 "nbformat_minor": 2
}
