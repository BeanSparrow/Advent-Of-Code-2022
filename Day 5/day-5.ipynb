{
 "cells": [
  {
   "cell_type": "markdown",
   "metadata": {},
   "source": [
    "# Advent of Code 2022 | Day 5"
   ]
  },
  {
   "cell_type": "code",
   "execution_count": 2,
   "metadata": {},
   "outputs": [
    {
     "name": "stdout",
     "output_type": "stream",
     "text": [
      "The solution for Part 1 is: SBPQRSCDF\n",
      "The solution for Part 2 is: RGLVRCQSB\n"
     ]
    }
   ],
   "source": [
    "import math\n",
    "import copy\n",
    "\n",
    "class Stack:\n",
    "    \"\"\"Class for Stacks\"\"\"\n",
    "    def __init__(self, stack_number):\n",
    "        self.stack_number = stack_number\n",
    "        self.crates = []\n",
    "    \n",
    "    # Set Original Stack Crates\n",
    "    def initialize_position(self, crate):\n",
    "        self.crates.insert(0, crate)\n",
    "\n",
    "    # Add Crate to Stack\n",
    "    def add_crate(self, crate):\n",
    "        self.crates.append(crate)\n",
    "\n",
    "    # Remove Crate From Stack\n",
    "    def move_crate(self):\n",
    "        self.crates.pop()    \n",
    "\n",
    "def configuration_parser():\n",
    "    \"\"\"Parse and Establish Stacks\"\"\"\n",
    "    # Create Stack Objects\n",
    "\n",
    "    with open(\"day5-stack_configuration.txt\", \"r\") as f:\n",
    "        count = math.floor(len(f.readline())/4)\n",
    "        stacks = []\n",
    "        for i in range(count):\n",
    "            stacks.append(Stack(i+1))\n",
    "        \n",
    "\n",
    "    # Parse and Pass Crate Information to Stacks\n",
    "    with open(\"day5-stack_configuration.txt\", \"r\") as f:\n",
    "        for i, line in enumerate(f):\n",
    "            for j in range(len(line)):\n",
    "                if j % 4 == 1: # Diagram contains Crate every 4 characters\n",
    "                    if line[j] != ' ':\n",
    "                        stacks[math.floor(j/4)].initialize_position(line[j]) # Add Crate to \n",
    "    return stacks\n",
    "\n",
    "def crate_mover_9000(stacks: list, number_crates_moving: int, stack_moving_from: int, stack_moving_to: int):\n",
    "    \"\"\"Crate Moving for Crate Mover 9000\"\"\"\n",
    "    for i in range(number_crates_moving):\n",
    "        crate_moving = stacks[stack_moving_from].crates[-1]\n",
    "        stacks[stack_moving_from].move_crate()\n",
    "        stacks[stack_moving_to].add_crate(crate_moving)\n",
    "\n",
    "def crate_mover_9001(stacks: list, number_crates_moving: int, stack_moving_from: int, stack_moving_to: int):\n",
    "    \"\"\"Crate Moving for Crate Mover 9000\"\"\"\n",
    "    crates_moving = []\n",
    "    for i in range(number_crates_moving):\n",
    "        crates_moving.insert(0, stacks[stack_moving_from].crates[-1])\n",
    "        stacks[stack_moving_from].move_crate()\n",
    "    for crate in crates_moving:  \n",
    "        stacks[stack_moving_to].add_crate(crate)\n",
    "\n",
    "def top_crates(stacks):\n",
    "    top_crates = ''\n",
    "    for stack in stacks:\n",
    "        top_crates += stack.crates[-1]\n",
    "    return top_crates\n",
    "\n",
    "def move_crates(stacks):\n",
    "    \"\"\"Parse Instructions and Move Crates\"\"\"\n",
    "    # Copy Stack List\n",
    "    part_one_stacks = copy.deepcopy(stacks)\n",
    "    part_two_stacks = copy.deepcopy(stacks)\n",
    "\n",
    "    # Parse Instructions and Execute\n",
    "    with open(\"day5-crane_instructions.txt\", \"r\") as f:\n",
    "        for i, line in enumerate(f):\n",
    "            instruction = line.strip().split(' ')\n",
    "            number_crates_moving = int(instruction[1]) # Number of Crates Moving\n",
    "            stack_moving_from = int(instruction[3]) - 1 # Stack Crate Removed From\n",
    "            stack_moving_to = int(instruction[5]) - 1 # Stack Crate Added To\n",
    "            \n",
    "            # Crate Moving for Crate Mover 9000\n",
    "            crate_mover_9000(part_one_stacks, number_crates_moving, stack_moving_from, stack_moving_to)\n",
    "\n",
    "            # Crate Moving for Crate Mover 9001\n",
    "            crate_mover_9001(part_two_stacks, number_crates_moving, stack_moving_from, stack_moving_to)\n",
    "    \n",
    "    # Get Top Crate for all Stacks\n",
    "    print(f'The solution for Part 1 is: {top_crates(part_one_stacks)}')\n",
    "    print(f'The solution for Part 2 is: {top_crates(part_two_stacks)}')\n",
    "\n",
    "if __name__ == '__main__':\n",
    "    initial_stacks = configuration_parser()\n",
    "    move_crates(initial_stacks)"
   ]
  }
 ],
 "metadata": {
  "kernelspec": {
   "display_name": "Python 3.9.2 64-bit",
   "language": "python",
   "name": "python3"
  },
  "language_info": {
   "codemirror_mode": {
    "name": "ipython",
    "version": 3
   },
   "file_extension": ".py",
   "mimetype": "text/x-python",
   "name": "python",
   "nbconvert_exporter": "python",
   "pygments_lexer": "ipython3",
   "version": "3.9.2"
  },
  "orig_nbformat": 4,
  "vscode": {
   "interpreter": {
    "hash": "db530cbe9554966aed7cfbdc02c54c6d4fe39a731218d60a9e5d0f2b242b98d0"
   }
  }
 },
 "nbformat": 4,
 "nbformat_minor": 2
}
