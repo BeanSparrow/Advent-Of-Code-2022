{
 "cells": [
  {
   "cell_type": "markdown",
   "metadata": {},
   "source": [
    "# Advent of Code 2022 | Day 1"
   ]
  },
  {
   "cell_type": "code",
   "execution_count": 50,
   "metadata": {},
   "outputs": [],
   "source": [
    "## Open Input File ##\n",
    "with open(\"day1.txt\", \"r\") as f:\n",
    "    elfList = [] # Store Elf Calorie Totals\n",
    "    currentElf = 0 # Store Current iteration Calorie Total\n",
    "    \n",
    "    ## Parse Input File ##\n",
    "    for i, line in enumerate(f):\n",
    "        if line.strip(): # If food is carried by same elf\n",
    "            currentElf += int(line.strip())\n",
    "        else: # Else switching to new elf\n",
    "            elfList.append(currentElf)\n",
    "            currentElf = 0\n",
    "    \n",
    "    ## Solutions ##        \n",
    "    partOneSolution = sorted(elfList,reverse=True)[0]\n",
    "    partTwoSolution = sum(sorted(elfList,reverse=True)[:3])"
   ]
  },
  {
   "cell_type": "markdown",
   "metadata": {},
   "source": [
    "### Part 1"
   ]
  },
  {
   "cell_type": "code",
   "execution_count": 51,
   "metadata": {},
   "outputs": [
    {
     "name": "stdout",
     "output_type": "stream",
     "text": [
      "65912\n"
     ]
    }
   ],
   "source": [
    "print(partOneSolution)"
   ]
  },
  {
   "cell_type": "markdown",
   "metadata": {},
   "source": [
    "### Part 2"
   ]
  },
  {
   "cell_type": "code",
   "execution_count": 52,
   "metadata": {},
   "outputs": [
    {
     "name": "stdout",
     "output_type": "stream",
     "text": [
      "195625\n"
     ]
    }
   ],
   "source": [
    "print(partTwoSolution)"
   ]
  }
 ],
 "metadata": {
  "kernelspec": {
   "display_name": "Python 3.9.2 64-bit",
   "language": "python",
   "name": "python3"
  },
  "language_info": {
   "codemirror_mode": {
    "name": "ipython",
    "version": 3
   },
   "file_extension": ".py",
   "mimetype": "text/x-python",
   "name": "python",
   "nbconvert_exporter": "python",
   "pygments_lexer": "ipython3",
   "version": "3.9.2"
  },
  "orig_nbformat": 4,
  "vscode": {
   "interpreter": {
    "hash": "db530cbe9554966aed7cfbdc02c54c6d4fe39a731218d60a9e5d0f2b242b98d0"
   }
  }
 },
 "nbformat": 4,
 "nbformat_minor": 2
}
