{
 "cells": [
  {
   "cell_type": "markdown",
   "metadata": {},
   "source": [
    "# Advent of Code 2022 | Day 1"
   ]
  },
  {
   "cell_type": "markdown",
   "metadata": {},
   "source": [
    "### Part 1"
   ]
  },
  {
   "cell_type": "code",
   "execution_count": 46,
   "metadata": {},
   "outputs": [
    {
     "name": "stdout",
     "output_type": "stream",
     "text": [
      "65912\n"
     ]
    }
   ],
   "source": [
    "with open(\"day1.txt\", \"r\") as f:\n",
    "    elfList = []\n",
    "    currentElf = 0\n",
    "    for i, line in enumerate(f):\n",
    "        if line.strip():\n",
    "            currentElf += int(line.strip())\n",
    "        else:\n",
    "            elfList.append(currentElf)\n",
    "            currentElf = 0\n",
    "    print(sorted(elfList,reverse=True)[0])"
   ]
  },
  {
   "cell_type": "markdown",
   "metadata": {},
   "source": [
    "### Day 2"
   ]
  },
  {
   "cell_type": "code",
   "execution_count": 47,
   "metadata": {},
   "outputs": [
    {
     "name": "stdout",
     "output_type": "stream",
     "text": [
      "195625\n"
     ]
    }
   ],
   "source": [
    "with open(\"day1.txt\", \"r\") as f:\n",
    "    elfList = []\n",
    "    currentElf = 0\n",
    "    for i, line in enumerate(f):\n",
    "        if line.strip():\n",
    "            currentElf += int(line.strip())\n",
    "        else:\n",
    "            elfList.append(currentElf)\n",
    "            currentElf = 0\n",
    "    print(sum(sorted(elfList,reverse=True)[:3]))\n"
   ]
  }
 ],
 "metadata": {
  "kernelspec": {
   "display_name": "Python 3.9.2 64-bit",
   "language": "python",
   "name": "python3"
  },
  "language_info": {
   "codemirror_mode": {
    "name": "ipython",
    "version": 3
   },
   "file_extension": ".py",
   "mimetype": "text/x-python",
   "name": "python",
   "nbconvert_exporter": "python",
   "pygments_lexer": "ipython3",
   "version": "3.9.2"
  },
  "orig_nbformat": 4,
  "vscode": {
   "interpreter": {
    "hash": "db530cbe9554966aed7cfbdc02c54c6d4fe39a731218d60a9e5d0f2b242b98d0"
   }
  }
 },
 "nbformat": 4,
 "nbformat_minor": 2
}
