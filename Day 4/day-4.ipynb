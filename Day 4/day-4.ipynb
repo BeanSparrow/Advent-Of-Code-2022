{
 "cells": [
  {
   "cell_type": "markdown",
   "metadata": {},
   "source": [
    "# Advent of Code 2022 | Day 4"
   ]
  },
  {
   "cell_type": "code",
   "execution_count": 20,
   "metadata": {},
   "outputs": [
    {
     "name": "stdout",
     "output_type": "stream",
     "text": [
      "The number of fully overlapped sections is: 459\n",
      "The number of overlapped sections is: 779\n"
     ]
    }
   ],
   "source": [
    "import re\n",
    "\n",
    "def determine_full_overlap(first_elf_sections: set, second_elf_sections: set):\n",
    "    \"\"\"Find Intersection and Determine if Set Equivalent\"\"\"\n",
    "    if first_elf_sections.issubset(second_elf_sections)\\\n",
    "         or second_elf_sections.issubset(first_elf_sections):\n",
    "        return 1, 1 # Intersect Set is Equivalent to one of Elf Section Sets\n",
    "    elif (first_elf_sections & second_elf_sections): # & Operator returns intersection\n",
    "        return 0, 1\n",
    "    else:\n",
    "        return 0, 0 # Intersect Set is not Equivalent, a subset or an Empty Set\n",
    "    \n",
    "\n",
    "\n",
    "counter = 0\n",
    "def main():\n",
    "    \"\"\"Parse and Create Section Sets\"\"\"\n",
    "    puzzle_one_solution = 0\n",
    "    puzzle_two_solution = 0\n",
    "    with open(\"day4-input.txt\", \"r\") as f:\n",
    "        for i, line in enumerate(f):\n",
    "            # Split input on ',' and '-', map to integer\n",
    "            sections = list(map(int ,re.split(r',|-', line.strip())))\n",
    "\n",
    "            # Generate Set of Sections passing start and end, iterating by 1\n",
    "            first_elf_sections = set(range(sections[0], sections[1] + 1, 1))\n",
    "            second_elf_sections = set(range(sections[2], sections[3] + 1))\n",
    "            \n",
    "            # Pass to overlap determining function and increment counter\n",
    "            equivalent, overlap = determine_full_overlap(first_elf_sections, second_elf_sections)\n",
    "            puzzle_one_solution += equivalent\n",
    "            puzzle_two_solution += overlap\n",
    "    return puzzle_one_solution, puzzle_two_solution        \n",
    "\n",
    "if __name__ == '__main__':\n",
    "    puzzle_one_solution, puzzle_two_solution = main()\n",
    "    print(f'The number of fully overlapped sections is: {puzzle_one_solution}')\n",
    "    print(f'The number of overlapped sections is: {puzzle_two_solution}')"
   ]
  }
 ],
 "metadata": {
  "kernelspec": {
   "display_name": "Python 3.9.2 64-bit",
   "language": "python",
   "name": "python3"
  },
  "language_info": {
   "codemirror_mode": {
    "name": "ipython",
    "version": 3
   },
   "file_extension": ".py",
   "mimetype": "text/x-python",
   "name": "python",
   "nbconvert_exporter": "python",
   "pygments_lexer": "ipython3",
   "version": "3.9.2"
  },
  "orig_nbformat": 4,
  "vscode": {
   "interpreter": {
    "hash": "db530cbe9554966aed7cfbdc02c54c6d4fe39a731218d60a9e5d0f2b242b98d0"
   }
  }
 },
 "nbformat": 4,
 "nbformat_minor": 2
}
