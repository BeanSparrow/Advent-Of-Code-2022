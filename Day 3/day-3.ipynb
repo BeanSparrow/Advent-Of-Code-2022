{
 "cells": [
  {
   "cell_type": "markdown",
   "metadata": {},
   "source": [
    "# Advent of Code 2022 | Day 3"
   ]
  },
  {
   "cell_type": "markdown",
   "metadata": {},
   "source": [
    "### Part 1"
   ]
  },
  {
   "cell_type": "code",
   "execution_count": 71,
   "metadata": {},
   "outputs": [
    {
     "name": "stdout",
     "output_type": "stream",
     "text": [
      "7581\n"
     ]
    }
   ],
   "source": [
    "def determine_priority(letter):\n",
    "    \"\"\"Determine Priority Value Using ord() offset\"\"\"\n",
    "    # Off by 96 for Lower()\n",
    "    # Off by 38 for Upper()\n",
    "    if letter == letter.lower():\n",
    "        return ord(letter) - 96\n",
    "    else:\n",
    "        return ord(letter) - 38\n",
    "\n",
    "def main():\n",
    "    \"\"\"Parse The Input and Determine Sum of Priority\"\"\"\n",
    "    with open(\"day3-input.txt\", \"r\") as f:\n",
    "        # Initialize Score\n",
    "        score = 0\n",
    "        \n",
    "        ## Parse Input File\n",
    "        for i, line in enumerate(f):\n",
    "            half_string_length = int(len(line.strip())/2)\n",
    "            first_compartment = set(line.strip()[:half_string_length])\n",
    "            second_compartment = set(line.strip()[half_string_length:])\n",
    "            same = list(first_compartment.intersection(second_compartment))\n",
    "            priority = determine_priority(same[0])\n",
    "            score += priority\n",
    "        print(score)\n",
    "\n",
    "if __name__ == '__main__':\n",
    "    main()"
   ]
  },
  {
   "cell_type": "markdown",
   "metadata": {},
   "source": [
    "### Part 2"
   ]
  },
  {
   "cell_type": "code",
   "execution_count": 72,
   "metadata": {},
   "outputs": [
    {
     "name": "stdout",
     "output_type": "stream",
     "text": [
      "2525\n"
     ]
    }
   ],
   "source": [
    "def parser():\n",
    "    \"\"\"Parse File\"\"\"\n",
    "    with open(\"day3-input.txt\", \"r\") as f:\n",
    "        # Initialize Rucksack List\n",
    "        rucksacks = []\n",
    "        ## Parse Input File \n",
    "        for i, line in enumerate(f):\n",
    "            rucksacks.append(line.strip())\n",
    "        return rucksacks\n",
    "\n",
    "def determine_priority(letter):\n",
    "    \"\"\"Determine Priority Value Using ord() offset\"\"\"\n",
    "    # Off by 96 for Lower()\n",
    "    # Off by 38 for Upper()\n",
    "    if letter == letter.lower():\n",
    "        return ord(letter) - 96\n",
    "    else:\n",
    "        return ord(letter) - 38\n",
    "\n",
    "def main():\n",
    "    \"\"\"Parse The Input and Determine Sum of Priority\"\"\"\n",
    "    # Initialize Score\n",
    "    score = 0\n",
    "\n",
    "    # Run Parser\n",
    "    rucksacks = parser()\n",
    "    \n",
    "    # Determine Number of Groups\n",
    "    number_groups = int(len(rucksacks) / 3)\n",
    "\n",
    "    for i in range(number_groups):\n",
    "        \"\"\"Loop through Rucksacks and Find Intersection In Group\"\"\"\n",
    "        group = rucksacks[i*3:(i+1)*3]\n",
    "        same = list(set(group[0]).intersection(set(group[1]), set(group[2])))\n",
    "        priority = determine_priority(same[0])\n",
    "        score += priority\n",
    "    \n",
    "    print(score)\n",
    "\n",
    "if __name__ == '__main__':\n",
    "    main()"
   ]
  }
 ],
 "metadata": {
  "kernelspec": {
   "display_name": "Python 3.11.0 64-bit",
   "language": "python",
   "name": "python3"
  },
  "language_info": {
   "codemirror_mode": {
    "name": "ipython",
    "version": 3
   },
   "file_extension": ".py",
   "mimetype": "text/x-python",
   "name": "python",
   "nbconvert_exporter": "python",
   "pygments_lexer": "ipython3",
   "version": "3.11.0"
  },
  "orig_nbformat": 4,
  "vscode": {
   "interpreter": {
    "hash": "2e08becd2fb66981e99f43f59d267a76f406a764571e712c80c35314ff1ef65d"
   }
  }
 },
 "nbformat": 4,
 "nbformat_minor": 2
}
